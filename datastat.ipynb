{
 "cells": [
  {
   "cell_type": "code",
   "execution_count": 1,
   "metadata": {},
   "outputs": [
    {
     "name": "stderr",
     "output_type": "stream",
     "text": [
      "/Users/akiicat/opt/anaconda3/envs/universe/lib/python3.6/site-packages/tensorflow/python/framework/dtypes.py:469: FutureWarning: Passing (type, 1) or '1type' as a synonym of type is deprecated; in a future version of numpy, it will be understood as (type, (1,)) / '(1,)type'.\n",
      "  _np_qint8 = np.dtype([(\"qint8\", np.int8, 1)])\n",
      "/Users/akiicat/opt/anaconda3/envs/universe/lib/python3.6/site-packages/tensorflow/python/framework/dtypes.py:470: FutureWarning: Passing (type, 1) or '1type' as a synonym of type is deprecated; in a future version of numpy, it will be understood as (type, (1,)) / '(1,)type'.\n",
      "  _np_quint8 = np.dtype([(\"quint8\", np.uint8, 1)])\n",
      "/Users/akiicat/opt/anaconda3/envs/universe/lib/python3.6/site-packages/tensorflow/python/framework/dtypes.py:471: FutureWarning: Passing (type, 1) or '1type' as a synonym of type is deprecated; in a future version of numpy, it will be understood as (type, (1,)) / '(1,)type'.\n",
      "  _np_qint16 = np.dtype([(\"qint16\", np.int16, 1)])\n",
      "/Users/akiicat/opt/anaconda3/envs/universe/lib/python3.6/site-packages/tensorflow/python/framework/dtypes.py:472: FutureWarning: Passing (type, 1) or '1type' as a synonym of type is deprecated; in a future version of numpy, it will be understood as (type, (1,)) / '(1,)type'.\n",
      "  _np_quint16 = np.dtype([(\"quint16\", np.uint16, 1)])\n",
      "/Users/akiicat/opt/anaconda3/envs/universe/lib/python3.6/site-packages/tensorflow/python/framework/dtypes.py:473: FutureWarning: Passing (type, 1) or '1type' as a synonym of type is deprecated; in a future version of numpy, it will be understood as (type, (1,)) / '(1,)type'.\n",
      "  _np_qint32 = np.dtype([(\"qint32\", np.int32, 1)])\n",
      "/Users/akiicat/opt/anaconda3/envs/universe/lib/python3.6/site-packages/tensorflow/python/framework/dtypes.py:476: FutureWarning: Passing (type, 1) or '1type' as a synonym of type is deprecated; in a future version of numpy, it will be understood as (type, (1,)) / '(1,)type'.\n",
      "  np_resource = np.dtype([(\"resource\", np.ubyte, 1)])\n",
      "/Users/akiicat/opt/anaconda3/envs/universe/lib/python3.6/importlib/_bootstrap.py:219: RuntimeWarning: compiletime version 3.5 of module 'tensorflow.python.framework.fast_tensor_util' does not match runtime version 3.6\n",
      "  return f(*args, **kwds)\n"
     ]
    }
   ],
   "source": [
    "import fio\n",
    "import svm\n",
    "import numpy as np\n",
    "import itertools"
   ]
  },
  {
   "cell_type": "code",
   "execution_count": 2,
   "metadata": {},
   "outputs": [],
   "source": [
    "def load():\n",
    "    X_train, Y_train, X_test, Y_test, train_sample, valid_sample = svm.load(1)\n",
    "    testing_sample = [np.indices((x.shape[0], x.shape[1])).reshape((2,-1)).T for x in X_test]\n",
    "    return X_train, Y_train, X_test, Y_test, train_sample, valid_sample, testing_sample"
   ]
  },
  {
   "cell_type": "code",
   "execution_count": 3,
   "metadata": {},
   "outputs": [],
   "source": [
    "if __name__ == \"__main__\":\n",
    "    X_train, Y_train, X_test, Y_test, train_sample, valid_sample, testing_sample = load()"
   ]
  },
  {
   "cell_type": "code",
   "execution_count": 4,
   "metadata": {},
   "outputs": [
    {
     "name": "stdout",
     "output_type": "stream",
     "text": [
      "idx      train,          p,          n,      valid,          p,          n,       test,          p,          n\n",
      " 0,         12,          7,          5,          3,          1,          2,         12,          3,          9\n",
      " 1,         45,         24,         21,          5,          3,          2,        200,        105,         95\n",
      " 2,      16035,       8074,       7961,       3965,       1976,       1989,          0,          0,          0\n",
      "-- ----------- ----------- ----------- ----------- ----------- ----------- ----------- ----------- -----------\n",
      "sum      16092,       8105,       7987,       3973,       1980,       1993,        212,        108,        104\n"
     ]
    }
   ],
   "source": [
    "def count(Y, sample):\n",
    "    if sample is None:\n",
    "        return np.array([0,0,0]), np.array([str(0), str(0), str(0)])\n",
    "    Y = Y[sample[:,0], sample[:,1]]\n",
    "    total = Y.shape[0]\n",
    "    p = np.count_nonzero(Y)\n",
    "    n = total - p\n",
    "    return np.array([total, p, n]), np.array([str(total), str(p), str(n)])\n",
    "\n",
    "train = np.array([], dtype=int)\n",
    "vaild = np.array([], dtype=int)\n",
    "test  = np.array([], dtype=int)\n",
    "for i, x in enumerate(itertools.zip_longest(Y_train, Y_test, train_sample, valid_sample, testing_sample)):\n",
    "    a, b, c = count(x[0], x[2]), count(x[0], x[3]), count(x[1], x[4])\n",
    "    \n",
    "    train = np.append(train, a[0])\n",
    "    vaild = np.append(vaild, b[0])\n",
    "    test  = np.append(test,  c[0])\n",
    "\n",
    "train = train.reshape((-1,3))\n",
    "vaild = vaild.reshape((-1,3))\n",
    "test  = test.reshape((-1,3))\n",
    "\n",
    "values = np.concatenate([train, vaild, test], axis=1)\n",
    "\n",
    "print(\"idx %10s, %10s, %10s, %10s, %10s, %10s, %10s, %10s, %10s\" % (\"train\", \"p\", \"n\", \"valid\", \"p\", \"n\", \"test\", \"p\", \"n\"))\n",
    "i = 0\n",
    "for a in values:\n",
    "    print(\"%2s, %10s, %10s, %10s, %10s, %10s, %10s, %10s, %10s, %10s\" % (i, a[0], a[1], a[2], a[3], a[4], a[5], a[6], a[7], a[8]))\n",
    "    i += 1\n",
    "print(\"-- ----------- ----------- ----------- ----------- ----------- ----------- ----------- ----------- -----------\")\n",
    "a = np.sum(values, axis=0)\n",
    "print(\"sum %10s, %10s, %10s, %10s, %10s, %10s, %10s, %10s, %10s\" % (a[0], a[1], a[2], a[3], a[4], a[5], a[6], a[7], a[8]))\n"
   ]
  },
  {
   "cell_type": "code",
   "execution_count": null,
   "metadata": {},
   "outputs": [],
   "source": []
  }
 ],
 "metadata": {
  "kernelspec": {
   "display_name": "Python 3",
   "language": "python",
   "name": "python3"
  },
  "language_info": {
   "codemirror_mode": {
    "name": "ipython",
    "version": 3
   },
   "file_extension": ".py",
   "mimetype": "text/x-python",
   "name": "python",
   "nbconvert_exporter": "python",
   "pygments_lexer": "ipython3",
   "version": "3.6.9"
  }
 },
 "nbformat": 4,
 "nbformat_minor": 2
}
