{
 "cells": [
  {
   "cell_type": "code",
   "execution_count": 1,
   "metadata": {},
   "outputs": [
    {
     "name": "stderr",
     "output_type": "stream",
     "text": [
      "/Users/akiicat/opt/anaconda3/envs/universe/lib/python3.6/site-packages/tensorflow/python/framework/dtypes.py:469: FutureWarning: Passing (type, 1) or '1type' as a synonym of type is deprecated; in a future version of numpy, it will be understood as (type, (1,)) / '(1,)type'.\n",
      "  _np_qint8 = np.dtype([(\"qint8\", np.int8, 1)])\n",
      "/Users/akiicat/opt/anaconda3/envs/universe/lib/python3.6/site-packages/tensorflow/python/framework/dtypes.py:470: FutureWarning: Passing (type, 1) or '1type' as a synonym of type is deprecated; in a future version of numpy, it will be understood as (type, (1,)) / '(1,)type'.\n",
      "  _np_quint8 = np.dtype([(\"quint8\", np.uint8, 1)])\n",
      "/Users/akiicat/opt/anaconda3/envs/universe/lib/python3.6/site-packages/tensorflow/python/framework/dtypes.py:471: FutureWarning: Passing (type, 1) or '1type' as a synonym of type is deprecated; in a future version of numpy, it will be understood as (type, (1,)) / '(1,)type'.\n",
      "  _np_qint16 = np.dtype([(\"qint16\", np.int16, 1)])\n",
      "/Users/akiicat/opt/anaconda3/envs/universe/lib/python3.6/site-packages/tensorflow/python/framework/dtypes.py:472: FutureWarning: Passing (type, 1) or '1type' as a synonym of type is deprecated; in a future version of numpy, it will be understood as (type, (1,)) / '(1,)type'.\n",
      "  _np_quint16 = np.dtype([(\"quint16\", np.uint16, 1)])\n",
      "/Users/akiicat/opt/anaconda3/envs/universe/lib/python3.6/site-packages/tensorflow/python/framework/dtypes.py:473: FutureWarning: Passing (type, 1) or '1type' as a synonym of type is deprecated; in a future version of numpy, it will be understood as (type, (1,)) / '(1,)type'.\n",
      "  _np_qint32 = np.dtype([(\"qint32\", np.int32, 1)])\n",
      "/Users/akiicat/opt/anaconda3/envs/universe/lib/python3.6/site-packages/tensorflow/python/framework/dtypes.py:476: FutureWarning: Passing (type, 1) or '1type' as a synonym of type is deprecated; in a future version of numpy, it will be understood as (type, (1,)) / '(1,)type'.\n",
      "  np_resource = np.dtype([(\"resource\", np.ubyte, 1)])\n",
      "/Users/akiicat/opt/anaconda3/envs/universe/lib/python3.6/importlib/_bootstrap.py:219: RuntimeWarning: compiletime version 3.5 of module 'tensorflow.python.framework.fast_tensor_util' does not match runtime version 3.6\n",
      "  return f(*args, **kwds)\n"
     ]
    }
   ],
   "source": [
    "import fio\n",
    "import svm\n",
    "import numpy as np\n",
    "import itertools"
   ]
  },
  {
   "cell_type": "code",
   "execution_count": 2,
   "metadata": {},
   "outputs": [],
   "source": [
    "if __name__ == \"__main__\":\n",
    "    X_train, Y_train, X_test, Y_test, train_sample, valid_sample, testing_sample = svm.load(23)"
   ]
  },
  {
   "cell_type": "code",
   "execution_count": 3,
   "metadata": {},
   "outputs": [],
   "source": [
    "def count(Y, sample):\n",
    "    if isinstance(Y, list):\n",
    "        arr = np.array([], dtype=int)\n",
    "        for y, s in zip(Y, sample):\n",
    "            arr = np.append(arr, count(y, s))\n",
    "        return arr.reshape((-1,3))\n",
    "\n",
    "    if sample is None:\n",
    "        return np.array([0,0,0])\n",
    "\n",
    "    Y = Y[sample[:,0], sample[:,1]]\n",
    "    total = Y.shape[0]\n",
    "    p = np.count_nonzero(Y)\n",
    "    n = total - p\n",
    "\n",
    "    return np.array([total, p, n])\n"
   ]
  },
  {
   "cell_type": "code",
   "execution_count": 4,
   "metadata": {},
   "outputs": [
    {
     "name": "stdout",
     "output_type": "stream",
     "text": [
      "idx      train,          p,          n,      valid,          p,          n,       test,          p,          n\n",
      " 0,         12,          7,          5,          3,          1,          2,         12,          3,          9\n",
      " 1,         45,         24,         21,          5,          3,          2,        200,        105,         95\n",
      " 2,      16035,       8074,       7961,       3965,       1976,       1989,          0,          0,          0\n",
      "-- ----------- ----------- ----------- ----------- ----------- ----------- ----------- ----------- -----------\n",
      "sum      16092,       8105,       7987,       3973,       1980,       1993,        212,        108,        104\n"
     ]
    }
   ],
   "source": [
    "if __name__ == \"__main__\":\n",
    "    train = count(Y_train, train_sample)\n",
    "    vaild = count(Y_train, valid_sample)\n",
    "    test  = count(Y_test, testing_sample)\n",
    "\n",
    "    print(\"idx %10s, %10s, %10s, %10s, %10s, %10s, %10s, %10s, %10s\" % (\"train\", \"p\", \"n\", \"valid\", \"p\", \"n\", \"test\", \"p\", \"n\"))\n",
    "    for i, (a, b, c) in enumerate(itertools.zip_longest(list(train), list(vaild), list(test), fillvalue=np.array([0,0,0]))):\n",
    "        print(\"%2s, %10s, %10s, %10s, %10s, %10s, %10s, %10s, %10s, %10s\" % (i, a[0], a[1], a[2], b[0], b[1], b[2], c[0], c[1], c[2]))\n",
    "    print(\"-- ----------- ----------- ----------- ----------- ----------- ----------- ----------- ----------- -----------\")\n",
    "\n",
    "    a, b, c = np.sum(train, axis=0), np.sum(vaild, axis=0), np.sum(test, axis=0)\n",
    "    print(\"sum %10s, %10s, %10s, %10s, %10s, %10s, %10s, %10s, %10s\" % (a[0], a[1], a[2], b[0], b[1], b[2], c[0], c[1], c[2]))\n"
   ]
  },
  {
   "cell_type": "code",
   "execution_count": 5,
   "metadata": {},
   "outputs": [],
   "source": [
    "def sum_stat(Y, sample):\n",
    "    return np.sum(count(Y, sample), axis=0)"
   ]
  },
  {
   "cell_type": "code",
   "execution_count": 6,
   "metadata": {},
   "outputs": [
    {
     "name": "stdout",
     "output_type": "stream",
     "text": [
      "[16092  8105  7987]\n"
     ]
    }
   ],
   "source": [
    "if __name__ == \"__main__\":\n",
    "    train = sum_stat(Y_train, train_sample)\n",
    "    print(train)"
   ]
  }
 ],
 "metadata": {
  "kernelspec": {
   "display_name": "Python 3",
   "language": "python",
   "name": "python3"
  },
  "language_info": {
   "codemirror_mode": {
    "name": "ipython",
    "version": 3
   },
   "file_extension": ".py",
   "mimetype": "text/x-python",
   "name": "python",
   "nbconvert_exporter": "python",
   "pygments_lexer": "ipython3",
   "version": "3.6.9"
  }
 },
 "nbformat": 4,
 "nbformat_minor": 2
}
