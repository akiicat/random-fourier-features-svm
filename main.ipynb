{
 "cells": [
  {
   "cell_type": "markdown",
   "metadata": {},
   "source": [
    "# SVM Kernel Approximation\n",
    "\n",
    "1. Environment Setup: import required libraries\n",
    "2. Loading Dataset: training set, validation set, test set\n",
    "3. Preprocessing Data\n",
    "4. Building the Model\n",
    "5. Training Data\n",
    "6. Validating Data\n",
    "7. Testing Data\n"
   ]
  },
  {
   "cell_type": "markdown",
   "metadata": {},
   "source": [
    "## 1. Environment Setup: import required library\n",
    "\n",
    "We include the required libraries that will be used in the next parts. The **time**, **numpy**, and **tensorflow** are common libraries in machine learning. The **fio**, which is \"file input output\" used to load data and **config**, which is \"configuration file\" used to config the path of the dataset files are written by myself. Modify it when you need it."
   ]
  },
  {
   "cell_type": "code",
   "execution_count": null,
   "metadata": {},
   "outputs": [],
   "source": [
    "import fio\n",
    "import preprocessing as pc\n",
    "from config import *\n",
    "import utility\n",
    "\n",
    "# python std library\n",
    "import gc\n",
    "import time\n",
    "import logging\n",
    "import functools\n",
    "import collections\n",
    "from multiprocessing.pool import ThreadPool\n",
    "\n",
    "# install library\n",
    "import numpy as np\n",
    "import tensorflow as tf"
   ]
  },
  {
   "cell_type": "markdown",
   "metadata": {},
   "source": [
    "## 2. Loading Dataset: training set, validation set, test set\n",
    "\n",
    "Loading the training set, validation set, and test set that was defined in **config.py** file. Sample files consisting of indices of data will be used to undersample the data.\n"
   ]
  },
  {
   "cell_type": "code",
   "execution_count": null,
   "metadata": {},
   "outputs": [],
   "source": [
    "if __name__ == \"__main__\":\n",
    "    X_train_orig = fio.load_file(X_train_dataset)\n",
    "    Y_train_orig = fio.load_file(Y_train_dataset)\n",
    "    X_test_orig = fio.load_file(X_test_dataset)\n",
    "    Y_test_orig = fio.load_file(Y_test_dataset)\n",
    "    train_sample = fio.load_sample_file(train_sample_dataset)\n",
    "    valid_sample = fio.load_sample_file(valid_sample_dataset)\n",
    "\n",
    "    print(\"the length of training set:\", len(X_train_orig))\n",
    "    print(\"the length of testing set:\", len(X_test_orig))\n",
    "    print(\"the first row training data:\", X_train_orig[0][0][0])\n",
    "    print(\"the first row target value:\", Y_train_orig[0][0][0])"
   ]
  },
  {
   "cell_type": "markdown",
   "metadata": {},
   "source": [
    "## 3. Preprocessing Data\n",
    "\n",
    "There are two parts of the data that must be processed:\n",
    "\n",
    "- the input data represented by the prefix \"**X**\" on variables\n",
    "- the target data represented by the prefix \"**Y**\" on variables\n",
    "\n",
    "Check out the file **preprocess.py** for more details.\n"
   ]
  },
  {
   "cell_type": "code",
   "execution_count": null,
   "metadata": {},
   "outputs": [],
   "source": [
    "def preprocessing(X_lists, Y_lists, statistic, window_size=1, samples=[]):\n",
    "    \n",
    "    X = []\n",
    "    Y = []\n",
    "    \n",
    "    def _callback(x, y):\n",
    "        X.append(x)\n",
    "        Y.append(y)\n",
    "        \n",
    "    pc.iterative_all(X_lists, Y_lists, statistic, window_size=window_size, samples=samples, callback=_callback)\n",
    "        \n",
    "    X = np.concatenate(X, axis=0)\n",
    "    Y = np.concatenate(Y, axis=0)\n",
    "    \n",
    "    X = X.reshape((X.shape[0],-1))\n",
    "    Y = Y.reshape((Y.shape[0],-1))\n",
    "    \n",
    "    print(X.shape, utility.sizeof_fmt(X.nbytes))\n",
    "    print(Y.shape, utility.sizeof_fmt(Y.nbytes))\n",
    "    \n",
    "    return (X, Y)\n",
    "    "
   ]
  },
  {
   "cell_type": "code",
   "execution_count": null,
   "metadata": {},
   "outputs": [],
   "source": [
    "if __name__ == \"__main__\":\n",
    "    w = 23 # window size\n",
    "    stat = pc.get_feat_stat(X_train_orig)\n",
    "\n",
    "    X_train, Y_train = preprocessing(X_train_orig, Y_train_orig, stat, window_size=w, samples=train_sample)"
   ]
  },
  {
   "cell_type": "markdown",
   "metadata": {},
   "source": [
    "## 4. Building the Model\n",
    "\n",
    "The model that we used is followed by the article: [Improving Linear Models Using Explicit Kernel Methods](https://github.com/Debian/tensorflow/blob/master/tensorflow/contrib/kernel_methods/g3doc/tutorial.md).\n",
    "\n",
    "[TensorFlow Estimators: Managing Simplicity vs. Flexibility in\n",
    "High-Level Machine Learning Frameworks](https://storage.googleapis.com/pub-tools-public-publication-data/pdf/18d86099a350df93f2bd88587c0ec6d118cc98e7.pdf)\n",
    "\n",
    "Optimizer\n",
    "\n",
    "- [Ftrl Optimizer](https://www.tensorflow.org/api_docs/python/tf/compat/v1/train/FtrlOptimizer)\n",
    "- [Adam Optimizer](https://www.tensorflow.org/api_docs/python/tf/compat/v1/train/AdamOptimizer)"
   ]
  },
  {
   "cell_type": "code",
   "execution_count": null,
   "metadata": {},
   "outputs": [],
   "source": [
    "def create_model(learning_rate, dim_in, dim_out, stddev, model_dir=None):\n",
    "    \n",
    "    kernel_mapper = tf.contrib.kernel_methods.RandomFourierFeatureMapper(dim_in, dim_out, stddev, name='rffm')\n",
    "    \n",
    "    optimizer = tf.train.AdamOptimizer(learning_rate)\n",
    "    image_column = tf.contrib.layers.real_valued_column('data', dimension=dim_in)\n",
    "\n",
    "    estimator = tf.contrib.kernel_methods.KernelLinearClassifier(\n",
    "        feature_columns=[image_column], \n",
    "        n_classes=2, \n",
    "        model_dir=model_dir,\n",
    "        optimizer=optimizer, \n",
    "        kernel_mappers={image_column: [kernel_mapper]})\n",
    "\n",
    "    return estimator\n",
    "    \n",
    "    # For Example: Linear Model without optimizer\n",
    "    # image_column = tf.contrib.layers.real_valued_column('data', dimension=784)\n",
    "    # estimator = tf.contrib.learn.LinearClassifier(n_classes=2, optimizer=optimizer, feature_columns=[image_column])"
   ]
  },
  {
   "cell_type": "code",
   "execution_count": null,
   "metadata": {},
   "outputs": [],
   "source": [
    "if __name__ == \"__main__\":\n",
    "    # Adam Optimizer\n",
    "    learning_rate = 0.001\n",
    "\n",
    "    # RFFM\n",
    "    input_dim = 23 * 23 * 6\n",
    "    output_dim = 23 * 23 * 6 * 10\n",
    "    stddev = 1.0\n",
    "\n",
    "    estimator = create_model(learning_rate, input_dim, output_dim, stddev)"
   ]
  },
  {
   "cell_type": "markdown",
   "metadata": {},
   "source": [
    "## 5. Training Data\n"
   ]
  },
  {
   "cell_type": "code",
   "execution_count": null,
   "metadata": {},
   "outputs": [],
   "source": [
    "def train_model(estimator, X, Y, batch=128, epoch=1):\n",
    "    print(\"training data shape:\", X.shape, Y.shape)\n",
    "    print(\"training data memory:\", utility.sizeof_fmt(X.nbytes), utility.sizeof_fmt(Y.nbytes))\n",
    "    print(\"batch:\", batch)\n",
    "    print(\"epoch:\", epoch)\n",
    "    \n",
    "    x = {'data':X}\n",
    "    y = Y\n",
    "    train_input_fn = tf.estimator.inputs.numpy_input_fn(x, y, batch_size=batch, shuffle=True, num_epochs=epoch)\n",
    "    \n",
    "    start = time.time()\n",
    "    estimator.fit(input_fn=train_input_fn) # Train.\n",
    "    end = time.time()\n",
    "    print('Elapsed time: {} seconds'.format(end - start))\n",
    "    "
   ]
  },
  {
   "cell_type": "code",
   "execution_count": null,
   "metadata": {
    "scrolled": true
   },
   "outputs": [],
   "source": [
    "if __name__ == \"__main__\":\n",
    "    batch = 2048\n",
    "    epoch = 2\n",
    "    \n",
    "    train_model(estimator, X_train, Y_train, batch, epoch)"
   ]
  },
  {
   "cell_type": "markdown",
   "metadata": {},
   "source": [
    "## 6. Validating Data\n",
    "\n",
    "1. Evaluating Training Data\n",
    "2. Evaluating Validation Data\n",
    "3. Get The Prediction Data\n",
    "\n",
    "metrics\n",
    "\n",
    "https://tensorflow.google.cn/versions/r1.15/api_docs/python/tf/keras/metrics\n",
    "\n",
    "\n",
    "true false positive negative\n",
    "\n",
    "- [Classification: True vs. False and Positive vs. Negative](https://developers.google.com/machine-learning/crash-course/classification/true-false-positive-negative)\n",
    "- [如何辨別機器學習模型的好壞？秒懂Confusion Matrix](https://www.ycc.idv.tw/confusion-matrix.html)\n",
    "\n",
    "https://ai.stackexchange.com/questions/6383/meaning-of-evaluation-metrics-in-tensorflow\n",
    "\n",
    "\n",
    "\n",
    "```python\n",
    "x = {'data': X}\n",
    "y = Y\n",
    "\n",
    "input_fn = tf.estimator.inputs.numpy_input_fn(x, y, batch_size=batch, shuffle=False, num_epochs=1)\n",
    "\n",
    "metric = estimator.evaluate(input_fn=input_fn)\n",
    "```\n",
    "\n",
    "- loss: The current value of the loss. Either the sum of the losses, or the loss of the last batch.\n",
    "- global_step: Number of iterations.\n",
    "- AUC or Area Under the (ROC) Curve is quite complicated, but tells you something about the true/false positive rate. In short: the AUC is equal to the probability that a classifier will rank a randomly chosen positive instance higher than a randomly chosen negative one.\n",
    "- auc_precision_recall: Is the percentage of relevant intstances, among the retrieved instances, that have been retrieved over the total amount of relevant instances.\n"
   ]
  },
  {
   "cell_type": "code",
   "execution_count": null,
   "metadata": {},
   "outputs": [],
   "source": [
    "def evaluate_model(estimator, X, Y, statistic, batch=None):\n",
    "    \n",
    "    if batch == None:\n",
    "        batch = X.shape[0]\n",
    "    \n",
    "    x = {'data': X}\n",
    "    y = Y.reshape((X.shape[0]))\n",
    "    \n",
    "    input_fn = tf.estimator.inputs.numpy_input_fn(x, batch_size=batch, shuffle=False, num_epochs=1)\n",
    "\n",
    "    start = time.time()\n",
    "    result = estimator.predict_classes(input_fn=input_fn)\n",
    "    result = np.array(list(enumerate(result)))\n",
    "    result = result[:,1]\n",
    "    result = result.astype(bool)\n",
    "    end = time.time()\n",
    "    print('Elapsed time: {} seconds'.format(end - start))\n",
    "    \n",
    "    return {\n",
    "        'tp': np.sum((result == True ) & (y == True )), # true positive\n",
    "        'fp': np.sum((result == True ) & (y == False)), # false positive\n",
    "        'fn': np.sum((result == False) & (y == True )), # false negative\n",
    "        'tn': np.sum((result == False) & (y == False)), # true negative\n",
    "    }\n",
    "\n",
    "def evaluate_models(estimator, X_lists, Y_lists, statistic, window_size=1, samples=[], batch=None, num_thread=1):\n",
    "\n",
    "    metrics = []\n",
    "    threads = []\n",
    "    pool = ThreadPool(processes=num_thread)\n",
    "\n",
    "    def _callback(X, Y):\n",
    "        if num_thread == 1:\n",
    "            metric = evaluate_model(estimator,  X, Y, statistic, batch)\n",
    "            metrics.append(metric)\n",
    "            print(\"evaluated metrics:\", metric)\n",
    "        else:\n",
    "            async_result = pool.apply_async(evaluate_model, (estimator,  X, Y, statistic, batch))\n",
    "            threads.append(async_result)\n",
    "\n",
    "    pc.iterative_all(X_lists, Y_lists, statistic, window_size=window_size, samples=samples, callback=_callback)\n",
    "    \n",
    "    for i in threads:\n",
    "        metrics.append(i.get())\n",
    "    \n",
    "    metrics = functools.reduce(lambda a, b : collections.Counter(a) + collections.Counter(b), metrics)\n",
    "    \n",
    "    return dict(metrics)\n"
   ]
  },
  {
   "cell_type": "markdown",
   "metadata": {},
   "source": [
    "### 6.1 Evaluating Training Data"
   ]
  },
  {
   "cell_type": "code",
   "execution_count": null,
   "metadata": {},
   "outputs": [],
   "source": [
    "if __name__ == \"__main__\":\n",
    "    start = time.time()\n",
    "    metrics = evaluate_model(estimator, X_train, Y_train, stat, batch=batch)\n",
    "    end = time.time()\n",
    "    print('Elapsed time: {} seconds'.format(end - start))\n",
    "    print(\"training metrics (grouped):\", metrics)"
   ]
  },
  {
   "cell_type": "code",
   "execution_count": null,
   "metadata": {},
   "outputs": [],
   "source": [
    "if __name__ == \"__main__\":\n",
    "    start = time.time()\n",
    "    metrics = evaluate_models(estimator, X_train_orig, Y_train_orig, stat, window_size=w, samples=train_sample, batch=batch)\n",
    "    end = time.time()\n",
    "    print('Elapsed time: {} seconds'.format(end - start))\n",
    "    print(\"training metrics:\", metrics)\n"
   ]
  },
  {
   "cell_type": "markdown",
   "metadata": {},
   "source": [
    "### 6.2 Evaluating Validation Data"
   ]
  },
  {
   "cell_type": "code",
   "execution_count": null,
   "metadata": {
    "scrolled": true
   },
   "outputs": [],
   "source": [
    "if __name__ == \"__main__\":\n",
    "    metrics = evaluate_models(estimator, X_train_orig, Y_train_orig, stat, window_size=w, samples=valid_sample, batch=128)\n",
    "    print(\"validation metrics:\", metrics)"
   ]
  },
  {
   "cell_type": "markdown",
   "metadata": {},
   "source": [
    "### 6.3 Get The Prediction Data\n",
    "\n",
    "```python\n",
    "x = {'data': X_train.astype(np.float32)}\n",
    "y = Y_train\n",
    "batch = 128\n",
    "\n",
    "input_fn = tf.estimator.inputs.numpy_input_fn(x, batch_size=batch, shuffle=False, num_epochs=1)\n",
    "metric = estimator.predict_classes(input_fn=input_fn)\n",
    "\n",
    "for i, p in enumerate(metric):\n",
    "    print(p, y[i][0])\n",
    "```\n",
    "\n",
    "**Args:**\n",
    "\n",
    "- input_fn: Input function. If set, `x` and 'batch_size' must be `None`.\n",
    "\n",
    "**Returns:**\n",
    "\n",
    "A numpy array of predicted classes or regression values if the constructor's `model_fn` returns a `Tensor` for `predictions` or a `dict` of numpy arrays if `model_fn` returns a `dict`."
   ]
  },
  {
   "cell_type": "markdown",
   "metadata": {},
   "source": [
    "## 7. Testing Data"
   ]
  },
  {
   "cell_type": "code",
   "execution_count": null,
   "metadata": {},
   "outputs": [],
   "source": [
    "if __name__ == \"__main__\":\n",
    "    metrics = evaluate_models(estimator, X_test_orig, Y_test_orig, stat, window_size=w, batch=batch)\n",
    "    print(\"testing metrics:\", metrics)"
   ]
  }
 ],
 "metadata": {
  "kernelspec": {
   "display_name": "Python 3",
   "language": "python",
   "name": "python3"
  },
  "language_info": {
   "codemirror_mode": {
    "name": "ipython",
    "version": 3
   },
   "file_extension": ".py",
   "mimetype": "text/x-python",
   "name": "python",
   "nbconvert_exporter": "python",
   "pygments_lexer": "ipython3",
   "version": "3.7.4"
  }
 },
 "nbformat": 4,
 "nbformat_minor": 2
}
