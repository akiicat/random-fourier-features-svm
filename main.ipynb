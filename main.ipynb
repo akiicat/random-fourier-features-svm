{
 "cells": [
  {
   "cell_type": "markdown",
   "metadata": {},
   "source": [
    "# SVM Kernel Approximation\n",
    "\n",
    "1. Environment Setup: import required libraries\n",
    "2. Loading Dataset: training set, validation set, test set\n",
    "3. Preprocessing Data\n",
    "4. Building the Model\n",
    "5. Training Data\n",
    "6. Validating Data\n",
    "7. Testing Data\n"
   ]
  },
  {
   "cell_type": "markdown",
   "metadata": {},
   "source": [
    "## 1. Environment Setup: import required library\n",
    "\n",
    "We include the required libraries that will be used in the next parts. The **time**, **numpy**, and **tensorflow** are common libraries in machine learning. The **fio**, which is \"file input output\" used to load data and **config**, which is \"configuration file\" used to config the path of the dataset files are written by myself. Modify it when you need it."
   ]
  },
  {
   "cell_type": "code",
   "execution_count": null,
   "metadata": {},
   "outputs": [],
   "source": [
    "import fio\n",
    "import preprocessing as pc\n",
    "from config import *\n",
    "import utility\n",
    "\n",
    "# python std library\n",
    "import gc\n",
    "import time\n",
    "\n",
    "# install library\n",
    "import numpy as np\n",
    "import tensorflow as tf"
   ]
  },
  {
   "cell_type": "markdown",
   "metadata": {},
   "source": [
    "## 2. Loading Dataset: training set, validation set, test set\n",
    "\n",
    "Loading the training set, validation set, and test set that was defined in **config.py** file. Sample files consisting of indices of data will be used to undersample the data.\n"
   ]
  },
  {
   "cell_type": "code",
   "execution_count": null,
   "metadata": {},
   "outputs": [],
   "source": [
    "X_train_orig = fio.load_file(X_train_dataset)\n",
    "Y_train_orig = fio.load_file(Y_train_dataset)\n",
    "X_test_orig = fio.load_file(X_test_dataset)\n",
    "Y_test_orig = fio.load_file(Y_test_dataset)\n",
    "\n",
    "print(\"the length of training set:\", len(X_train_orig))\n",
    "print(\"the length of testing set:\", len(X_test_orig))\n",
    "print(\"the first row training data:\", X_train_orig[0][0][0])\n",
    "print(\"the first row target value:\", Y_train_orig[0][0][0])"
   ]
  },
  {
   "cell_type": "markdown",
   "metadata": {},
   "source": [
    "## 3. Preprocessing Data\n",
    "\n",
    "There are two parts of the data that must be processed:\n",
    "\n",
    "- the input data represented by the prefix \"**X**\" on variables\n",
    "- the target data represented by the prefix \"**Y**\" on variables\n",
    "\n",
    "Check out the file **preprocess.py** for more details.\n"
   ]
  },
  {
   "cell_type": "code",
   "execution_count": null,
   "metadata": {},
   "outputs": [],
   "source": [
    "def preprocessing(X_lists, Y_lists, statistic, window_size=1, samples=[]):\n",
    "    \n",
    "    X = []\n",
    "    Y = []\n",
    "    \n",
    "    def _callback(x, y):\n",
    "        X.append(x)\n",
    "        Y.append(y)\n",
    "        \n",
    "    pc.iterative_all(X_lists, Y_lists, statistic, window_size=window_size, samples=samples, callback=_callback)\n",
    "        \n",
    "    X = np.concatenate(X, axis=0)\n",
    "    Y = np.concatenate(Y, axis=0)\n",
    "    \n",
    "    X = X.reshape((X.shape[0],-1))\n",
    "    Y = Y.reshape((Y.shape[0],-1))\n",
    "    \n",
    "    print(X.shape, utility.sizeof_fmt(X.nbytes))\n",
    "    print(Y.shape, utility.sizeof_fmt(Y.nbytes))\n",
    "    \n",
    "    return (X, Y)\n",
    "    "
   ]
  },
  {
   "cell_type": "code",
   "execution_count": null,
   "metadata": {},
   "outputs": [],
   "source": [
    "w = 23 # window size\n",
    "stat = pc.get_feat_stat(X_train_orig)\n",
    "\n",
    "train_sample = fio.load_sample_file(train_sample_dataset)\n",
    "X_train, Y_train = preprocessing(X_train_orig, Y_train_orig, stat, window_size=w, samples=train_sample)"
   ]
  },
  {
   "cell_type": "markdown",
   "metadata": {},
   "source": [
    "## 4. Building the Model\n",
    "\n",
    "The model that we used is followed by the article: [Improving Linear Models Using Explicit Kernel Methods](https://github.com/Debian/tensorflow/blob/master/tensorflow/contrib/kernel_methods/g3doc/tutorial.md).\n",
    "\n",
    "https://storage.googleapis.com/pub-tools-public-publication-data/pdf/18d86099a350df93f2bd88587c0ec6d118cc98e7.pdf"
   ]
  },
  {
   "cell_type": "code",
   "execution_count": null,
   "metadata": {},
   "outputs": [],
   "source": [
    "def create_model(dim_in, dim_out, stddev=5.0, learning_rate=0.003, l2_regularization_strength=0.006):\n",
    "    \n",
    "    optimizer = tf.train.FtrlOptimizer(learning_rate=learning_rate, l2_regularization_strength=l2_regularization_strength)\n",
    "    \n",
    "    image_column = tf.contrib.layers.real_valued_column('data', dimension=dim_in)\n",
    "    kernel_mapper = tf.contrib.kernel_methods.RandomFourierFeatureMapper(input_dim=dim_in, output_dim=dim_out, stddev=stddev, name='rffm')\n",
    "\n",
    "    estimator = tf.contrib.kernel_methods.KernelLinearClassifier(n_classes=2, optimizer=optimizer, kernel_mappers={image_column: [kernel_mapper]})\n",
    "\n",
    "    return estimator\n",
    "    \n",
    "    # For Example: Linear Model without optimizer\n",
    "    # image_column = tf.contrib.layers.real_valued_column('data', dimension=784)\n",
    "    # estimator = tf.contrib.learn.LinearClassifier(feature_columns=[image_column], n_classes=2)"
   ]
  },
  {
   "cell_type": "code",
   "execution_count": null,
   "metadata": {},
   "outputs": [],
   "source": [
    "dim_in  = w * w * 6\n",
    "dim_out = w * w * 6 * 10\n",
    "stddev  = 5.0\n",
    "learning_rate = 0.003\n",
    "l2_regularization_strength = 0.006\n",
    "\n",
    "estimator = create_model(dim_in, dim_out, stddev, learning_rate, l2_regularization_strength)"
   ]
  },
  {
   "cell_type": "markdown",
   "metadata": {},
   "source": [
    "## 5. Training Data\n"
   ]
  },
  {
   "cell_type": "code",
   "execution_count": null,
   "metadata": {},
   "outputs": [],
   "source": [
    "def train_model(estimator, X, Y, batch_size=128, epoch=1):\n",
    "    print(\"training data shape:\", X.shape, Y.shape)\n",
    "    print(\"training data memory:\", utility.sizeof_fmt(X.nbytes), utility.sizeof_fmt(Y.nbytes))\n",
    "\n",
    "    x = {'data':X}\n",
    "    y = Y\n",
    "    train_input_fn = tf.estimator.inputs.numpy_input_fn(x, y, batch_size=batch, shuffle=True, num_epochs=epoch)\n",
    "    \n",
    "    start = time.time()\n",
    "    estimator.fit(input_fn=train_input_fn) # Train.\n",
    "    end = time.time()\n",
    "    print('Elapsed time: {} seconds'.format(end - start))\n",
    "    "
   ]
  },
  {
   "cell_type": "code",
   "execution_count": null,
   "metadata": {
    "scrolled": true
   },
   "outputs": [],
   "source": [
    "batch = 128\n",
    "epoch = 1\n",
    "\n",
    "train_model(estimator, X_train, Y_train, batch, epoch)"
   ]
  },
  {
   "cell_type": "markdown",
   "metadata": {},
   "source": [
    "## 6. Validating Data\n",
    "\n",
    "1. Evaluating Training Data\n",
    "2. Evaluating Validation Data\n",
    "3. Get The Prediction Data\n",
    "\n",
    "metrics\n",
    "\n",
    "https://tensorflow.google.cn/versions/r1.15/api_docs/python/tf/keras/metrics\n",
    "\n",
    "\n",
    "true false positive negative\n",
    "\n",
    "https://developers.google.com/machine-learning/crash-course/classification/true-false-positive-negative\n",
    "\n",
    "\n",
    "https://ai.stackexchange.com/questions/6383/meaning-of-evaluation-metrics-in-tensorflow\n",
    "\n",
    "- loss: The current value of the loss. Either the sum of the losses, or the loss of the last batch.\n",
    "- global_step: Number of iterations.\n",
    "- AUC or Area Under the (ROC) Curve is quite complicated, but tells you something about the true/false positive rate. In short: the AUC is equal to the probability that a classifier will rank a randomly chosen positive instance higher than a randomly chosen negative one.\n",
    "- auc_precision_recall: Is the percentage of relevant intstances, among the retrieved instances, that have been retrieved over the total amount of relevant instances.\n"
   ]
  },
  {
   "cell_type": "code",
   "execution_count": null,
   "metadata": {},
   "outputs": [],
   "source": [
    "def evaluate_model(estimator, X, Y, statistic, batch=None):\n",
    "    \n",
    "    if batch == None:\n",
    "        batch = X.shape[0]\n",
    "    \n",
    "    x = {'data': X}\n",
    "    y = Y\n",
    "    \n",
    "    input_fn = tf.estimator.inputs.numpy_input_fn(x, y, batch_size=batch, shuffle=False, num_epochs=1)\n",
    "    \n",
    "    metric = estimator.evaluate(input_fn=input_fn)\n",
    "    metric['count'] = X.shape[0]\n",
    "    \n",
    "    return metric\n",
    "\n",
    "def evaluate_models(estimator, X_lists, Y_lists, statistic, window_size=1, samples=[], batch=None):\n",
    "\n",
    "    metrics = []\n",
    "    def _callback(X, Y):\n",
    "        metric = evaluate_model(estimator, X, Y, statistic, batch=batch)\n",
    "        metrics.append(metric)\n",
    "        print(\"evaluated metrics:\", metric)\n",
    "\n",
    "    pc.iterative_all(X_lists, Y_lists, statistic, window_size=window_size, samples=samples, callback=_callback)\n",
    "\n",
    "    return metrics\n"
   ]
  },
  {
   "cell_type": "markdown",
   "metadata": {},
   "source": [
    "### 6.1 Evaluating Training Data"
   ]
  },
  {
   "cell_type": "code",
   "execution_count": null,
   "metadata": {},
   "outputs": [],
   "source": [
    "metrics = evaluate_model(estimator, X_train, Y_train, stat, batch=128)\n",
    "print(\"training metrics (grouped):\", metrics)\n",
    "metrics = evaluate_models(estimator, X_train_orig, Y_train_orig, stat, window_size=w, samples=train_sample, batch=128)\n",
    "print(\"training metrics:\", metrics)\n",
    "\n",
    "# metric = evaluate_model(estimator, X_train, Y_train, stat, batch=128)\n",
    "# del X_train, Y_train\n",
    "# gc.collect()"
   ]
  },
  {
   "cell_type": "markdown",
   "metadata": {},
   "source": [
    "### 6.2 Evaluating Validation Data"
   ]
  },
  {
   "cell_type": "code",
   "execution_count": null,
   "metadata": {
    "scrolled": true
   },
   "outputs": [],
   "source": [
    "valid_sample = fio.load_sample_file(valid_sample_dataset)\n",
    "metrics = evaluate_models(estimator, X_train_orig, Y_train_orig, stat, window_size=w, samples=valid_sample, batch=128)\n",
    "print(\"validation metrics:\", metrics)"
   ]
  },
  {
   "cell_type": "code",
   "execution_count": null,
   "metadata": {},
   "outputs": [],
   "source": [
    "# X_valid, Y_valid = preprocessing(X_train_orig, Y_train_orig, stat, window_size=w, samples=valid_sample)\n",
    "# metric = evaluate_model(estimator, X_valid, Y_valid, stat, batch=128)\n",
    "# del X_valid, Y_valid\n",
    "# gc.collect()"
   ]
  },
  {
   "cell_type": "markdown",
   "metadata": {},
   "source": [
    "### 6.3 Get The Prediction Data\n",
    "\n",
    "```python\n",
    "x = {'data': X_train.astype(np.float32)}\n",
    "y = Y_train\n",
    "\n",
    "input_fn = tf.estimator.inputs.numpy_input_fn(x, batch_size=batch, shuffle=False)\n",
    "metric = estimator.predict(input_fn=input_fn)\n",
    "print(metric['classes'])\n",
    "```\n",
    "\n",
    "**Args:**\n",
    "\n",
    "- input_fn: Input function. If set, `x` and 'batch_size' must be `None`.\n",
    "\n",
    "**Returns:**\n",
    "\n",
    "A numpy array of predicted classes or regression values if the constructor's `model_fn` returns a `Tensor` for `predictions` or a `dict` of numpy arrays if `model_fn` returns a `dict`."
   ]
  },
  {
   "cell_type": "markdown",
   "metadata": {},
   "source": [
    "## 7. Testing Data"
   ]
  },
  {
   "cell_type": "code",
   "execution_count": null,
   "metadata": {},
   "outputs": [],
   "source": [
    "metrics = evaluate_models(estimator, X_test_orig, Y_test_orig, stat, window_size=w, batch=128)\n",
    "print(\"testing metrics:\", metrics)"
   ]
  },
  {
   "cell_type": "code",
   "execution_count": null,
   "metadata": {},
   "outputs": [],
   "source": []
  }
 ],
 "metadata": {
  "kernelspec": {
   "display_name": "Python 3",
   "language": "python",
   "name": "python3"
  },
  "language_info": {
   "codemirror_mode": {
    "name": "ipython",
    "version": 3
   },
   "file_extension": ".py",
   "mimetype": "text/x-python",
   "name": "python",
   "nbconvert_exporter": "python",
   "pygments_lexer": "ipython3",
   "version": "3.6.9"
  }
 },
 "nbformat": 4,
 "nbformat_minor": 2
}
