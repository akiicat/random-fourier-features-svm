{
 "cells": [
  {
   "cell_type": "markdown",
   "metadata": {},
   "source": [
    "# Data Preprocessing Library\n",
    "\n",
    "1. Environment Setup: import required libraries\n",
    "2. Calculating Features Statistic Data\n",
    "3. Preprocessing Data\n",
    "4. Piping Preprocessing Data\n"
   ]
  },
  {
   "cell_type": "markdown",
   "metadata": {},
   "source": [
    "## 1. Environment Setup: import required library\n"
   ]
  },
  {
   "cell_type": "code",
   "execution_count": 1,
   "metadata": {},
   "outputs": [],
   "source": [
    "import utility\n",
    "\n",
    "# python std library\n",
    "import itertools\n",
    "\n",
    "# install library\n",
    "import numpy as np"
   ]
  },
  {
   "cell_type": "markdown",
   "metadata": {},
   "source": [
    "## 2. Calculating Feature Statistic Data\n",
    "\n",
    "We will write a function to calculate the training and validating data. The mean, maximum, standard deviation, and variance are returned at the end of the function.\n"
   ]
  },
  {
   "cell_type": "code",
   "execution_count": 2,
   "metadata": {},
   "outputs": [],
   "source": [
    "def get_feat_stat(arr):\n",
    "    arr = [ f.reshape((-1, f.shape[-1])) for f in arr ]\n",
    "    arr = np.concatenate(arr)\n",
    "\n",
    "    return {\n",
    "            'max': np.max(arr, axis=0),\n",
    "            'mean': np.mean(arr, axis=0, dtype=np.float128),\n",
    "            'stdev': np.nanstd(arr, axis=0, dtype=np.float128),\n",
    "            'var': np.nanvar(arr, axis=0, dtype=np.float128),\n",
    "            }\n"
   ]
  },
  {
   "cell_type": "code",
   "execution_count": 3,
   "metadata": {},
   "outputs": [
    {
     "name": "stdout",
     "output_type": "stream",
     "text": [
      "create a simple matrix:  (2, 3, 6) \n",
      " [[[ 0  1  2  3  4  5]\n",
      "  [ 6  7  8  9 10 11]\n",
      "  [12 13 14 15 16 17]]\n",
      "\n",
      " [[18 19 20 21 22 23]\n",
      "  [24 25 26 27 28 29]\n",
      "  [30 31 32 33 34 35]]]\n",
      "maximum: [30 31 32 33 34 35]\n",
      "mean: [15. 16. 17. 18. 19. 20.]\n",
      "standard deviation: [10.24695077 10.24695077 10.24695077 10.24695077 10.24695077 10.24695077]\n",
      "variance: [105. 105. 105. 105. 105. 105.]\n"
     ]
    }
   ],
   "source": [
    "if __name__ == \"__main__\":\n",
    "\n",
    "    A = np.arange(2*3*6).reshape((2,3,6))\n",
    "\n",
    "    stat = get_feat_stat([A])\n",
    "\n",
    "    # stat = get_feat_stat(X_train_orig)\n",
    "    print(\"create a simple matrix: \", A.shape, \"\\n\", A)\n",
    "    print(\"maximum:\", stat['max'])\n",
    "    print(\"mean:\", stat['mean'])\n",
    "    print(\"standard deviation:\", stat['stdev'])\n",
    "    print(\"variance:\", stat['var'])"
   ]
  },
  {
   "cell_type": "markdown",
   "metadata": {},
   "source": [
    "## 3. Preprocessing Data\n"
   ]
  },
  {
   "cell_type": "markdown",
   "metadata": {},
   "source": [
    "### 3.1. Preprocessing Input Data\n",
    "\n",
    "We will write the data processing functions in the section. There are three steps for input data:\n",
    "\n",
    "1. Standardize the data\n",
    "2. Expand the features by window slice\n",
    "3. Undersampling Data\n"
   ]
  },
  {
   "cell_type": "markdown",
   "metadata": {},
   "source": [
    "#### 3.1.1. Standardize the data\n",
    "\n",
    "Next, we will standardize the data by calculating **stat** from the previous step. \n",
    "\n",
    "How to standardize the data: https://stackoverflow.com/a/4544459\n"
   ]
  },
  {
   "cell_type": "code",
   "execution_count": 4,
   "metadata": {},
   "outputs": [],
   "source": [
    "def standardize(A, stat):\n",
    "    # if isinstance(A, list):\n",
    "    #     return [ standardize(a, stat) for a in A ]\n",
    "\n",
    "    A = np.subtract(A, stat['mean'])\n",
    "    A = np.divide(A, stat['stdev'])\n",
    "    A = A.astype(np.float32)\n",
    "\n",
    "    return A\n"
   ]
  },
  {
   "cell_type": "code",
   "execution_count": 5,
   "metadata": {},
   "outputs": [
    {
     "name": "stdout",
     "output_type": "stream",
     "text": [
      "before standardization: (2, 3, 6) \n",
      " [[[ 0  1  2  3  4  5]\n",
      "  [ 6  7  8  9 10 11]\n",
      "  [12 13 14 15 16 17]]\n",
      "\n",
      " [[18 19 20 21 22 23]\n",
      "  [24 25 26 27 28 29]\n",
      "  [30 31 32 33 34 35]]]\n",
      "after standardization: (2, 3, 6) \n",
      " [[[-1.4638501  -1.4638501  -1.4638501  -1.4638501  -1.4638501\n",
      "   -1.4638501 ]\n",
      "  [-0.8783101  -0.8783101  -0.8783101  -0.8783101  -0.8783101\n",
      "   -0.8783101 ]\n",
      "  [-0.29277003 -0.29277003 -0.29277003 -0.29277003 -0.29277003\n",
      "   -0.29277003]]\n",
      "\n",
      " [[ 0.29277003  0.29277003  0.29277003  0.29277003  0.29277003\n",
      "    0.29277003]\n",
      "  [ 0.8783101   0.8783101   0.8783101   0.8783101   0.8783101\n",
      "    0.8783101 ]\n",
      "  [ 1.4638501   1.4638501   1.4638501   1.4638501   1.4638501\n",
      "    1.4638501 ]]]\n"
     ]
    }
   ],
   "source": [
    "if __name__ == \"__main__\":\n",
    "    A = np.arange(2*3*6).reshape((2,3,6))\n",
    "    stat = get_feat_stat([A])\n",
    "\n",
    "    print(\"before standardization:\", A.shape, \"\\n\", A)\n",
    "    A = standardize(A, stat)\n",
    "    print(\"after standardization:\", A.shape, \"\\n\", A)"
   ]
  },
  {
   "cell_type": "markdown",
   "metadata": {},
   "source": [
    "#### 3.1.2. Expand the features by window slice\n",
    "\n",
    "How to expand the features by window size: https://zhuanlan.zhihu.com/p/64933417\n",
    "\n",
    "For example:\n",
    "\n",
    "```python\n",
    "A = np.arange(5*3*6).reshape((5,3,6))\n",
    "window_size = 5\n",
    "\n",
    "A = np.arange(0,5*3*6,1).reshape((5,3,6)).astype(np.float128)\n",
    "A = np.pad(A, ((2,2), (2,2), (0,0)), mode='constant')\n",
    "A = strided(A, shape=(5,3,5,5,6), strides=(672,96,672,96,16))\n",
    "A = A.reshape((5,3,150))\n",
    "```\n",
    "\n",
    "**Args:**\n",
    "\n",
    "- A: numpy array with shape (-1, -1, 6)\n",
    "- window_size: the size of window\n",
    "\n",
    "**Returns:**\n",
    "\n",
    "- A: numpy array with shape (-1, -1, window_size, window_size, 6)\n"
   ]
  },
  {
   "cell_type": "code",
   "execution_count": 6,
   "metadata": {},
   "outputs": [],
   "source": [
    "def expand(A, window_size):\n",
    "    if not window_size & 0x1:\n",
    "        raise Exception('need odd value on padding')\n",
    "\n",
    "    # if isinstance(A, list):\n",
    "    #     return [ expand(a, window_size) for a in A ]\n",
    "\n",
    "    n = window_size # the height and width of the window\n",
    "    p = window_size >> 1 # the padding size\n",
    "\n",
    "    d0, d1, d2 = A.shape # dimansion 0, 1, 2\n",
    "    s0, s1, s2 = A.strides # stride 0, 1, 2\n",
    "\n",
    "    A = np.pad(A, pad_width=((p,p),(p,p),(0,0)), mode='constant')\n",
    "    A = np.lib.stride_tricks.as_strided(A, shape=(d0,d1,n,n,d2), strides=(s0,s1,s0,s1,s2))\n",
    "\n",
    "    return A\n"
   ]
  },
  {
   "cell_type": "code",
   "execution_count": 7,
   "metadata": {},
   "outputs": [
    {
     "name": "stdout",
     "output_type": "stream",
     "text": [
      "window size: 5\n",
      "before expand: (5, 3, 6) (144, 48, 8)\n",
      "after expand: (5, 3, 5, 5, 6) (144, 48, 144, 48, 8)\n",
      "[[ 0  0  0  0  0  0]\n",
      " [ 0  0  0  0  0  0]\n",
      " [ 0  0  0  0  0  0]\n",
      " [ 0  0  0  0  0  0]\n",
      " [36 37 38 39 40 41]]\n"
     ]
    }
   ],
   "source": [
    "if __name__ == \"__main__\":\n",
    "    A = np.arange(5*3*6).reshape((5,3,6))\n",
    "    window_size = 5\n",
    "\n",
    "    print(\"window size:\", window_size)\n",
    "    print(\"before expand:\", A.shape, A.strides)\n",
    "    A = expand(A, window_size)\n",
    "    print(\"after expand:\", A.shape, A.strides)\n",
    "    print(A[-1][-1][-1])"
   ]
  },
  {
   "cell_type": "markdown",
   "metadata": {},
   "source": [
    "#### 3.1.3. Undersampling Data\n",
    "\n",
    "Because of the large data, we need to undersample the data.\n",
    "\n",
    "**Args:**\n",
    "\n",
    "- A: numpy array with two or more dimension.\n",
    "- index: the sample indices of double array\n",
    "\n",
    "**Returns:**\n",
    "\n",
    "- A: one dimension less than the input numpy array."
   ]
  },
  {
   "cell_type": "code",
   "execution_count": 8,
   "metadata": {},
   "outputs": [],
   "source": [
    "def undersample(A, index):\n",
    "    # if isinstance(A, list):\n",
    "    #     return [undersample(a, i) for a, i in zip(A, index)]\n",
    "    return A[index[:,1],index[:,0]]\n"
   ]
  },
  {
   "cell_type": "code",
   "execution_count": 9,
   "metadata": {},
   "outputs": [
    {
     "name": "stdout",
     "output_type": "stream",
     "text": [
      "the sample indices:\n",
      " [[2 1]\n",
      " [0 1]\n",
      " [1 0]]\n",
      "before undersampling shape: (2, 3, 5, 5, 6)\n",
      "after undersampling shape: (3, 5, 5, 6)\n"
     ]
    }
   ],
   "source": [
    "if __name__ == \"__main__\":\n",
    "    A = np.arange(2*3*5*5*6).reshape((2,3,5,5,6))\n",
    "    sample = np.array([[2,1],[0,1],[1,0]])\n",
    "\n",
    "    print(\"the sample indices:\\n\", sample)\n",
    "    print(\"before undersampling shape:\", A.shape)\n",
    "    A = undersample(A, sample)\n",
    "    print(\"after undersampling shape:\", A.shape)"
   ]
  },
  {
   "cell_type": "markdown",
   "metadata": {},
   "source": [
    "### 3.2. Preprocessing Output Data\n",
    "\n",
    "The target will be classified into two categories. \n",
    "\n",
    "convert target value\n",
    "- if zero => 0\n",
    "- else => 1\n",
    "\n",
    "**Args:**\n",
    "\n",
    "- A: numpy array with shape (-1, 1).\n",
    "\n",
    "**Returns:**\n",
    "\n",
    "- A: numpy array with shape (-1, 1)."
   ]
  },
  {
   "cell_type": "code",
   "execution_count": 10,
   "metadata": {},
   "outputs": [],
   "source": [
    "def classify(A):\n",
    "    if isinstance(A, list):\n",
    "        return [ classify(a) for a in A ]\n",
    "    \n",
    "    # zero => 0\n",
    "    # else => 1\n",
    "    \n",
    "    A = A != 0\n",
    "    A = A.astype(int)\n",
    "\n",
    "    return A\n"
   ]
  },
  {
   "cell_type": "code",
   "execution_count": 11,
   "metadata": {
    "scrolled": true
   },
   "outputs": [
    {
     "name": "stdout",
     "output_type": "stream",
     "text": [
      "before classification:\n",
      " [[[0]\n",
      "  [1]\n",
      "  [2]]\n",
      "\n",
      " [[3]\n",
      "  [4]\n",
      "  [5]]]\n",
      "after classification:\n",
      " [[[0]\n",
      "  [1]\n",
      "  [1]]\n",
      "\n",
      " [[1]\n",
      "  [1]\n",
      "  [1]]]\n"
     ]
    }
   ],
   "source": [
    "if __name__ == \"__main__\":\n",
    "    A = np.arange(2*3*1).reshape((2,3,1))\n",
    "\n",
    "    print(\"before classification:\\n\", A)\n",
    "    A = classify(A)\n",
    "    print(\"after classification:\\n\", A)"
   ]
  },
  {
   "cell_type": "markdown",
   "metadata": {},
   "source": [
    "## 4. Piping Preprocessing Data"
   ]
  },
  {
   "cell_type": "markdown",
   "metadata": {},
   "source": [
    "### 4.1 Single Pipeline\n",
    "\n",
    "Currently, it's a little bit complicated to piping the data, so we just iterated all preprocessing data functions instead.\n",
    "\n",
    "**Args:**\n",
    "\n",
    "- X: numpy array with shape (-1, -1, 6)\n",
    "- Y: numpy array with shape (-1, 1)\n",
    "- statistic: dictionary with keys \"mean\" and \"stdev\" used to standardize the data\n",
    "- window_size: the size of window\n",
    "- sample: the sample indices of double array\n",
    "\n",
    "**Returns:**\n",
    "\n",
    "- X: numpy array with shape (-1, window_size * window_size * 6)\n",
    "- Y: numpy array with shape (-1, 1)"
   ]
  },
  {
   "cell_type": "code",
   "execution_count": 12,
   "metadata": {},
   "outputs": [],
   "source": [
    "def pipeline(X, Y, statistic, window_size=1, sample=None):\n",
    "    \n",
    "    w = window_size\n",
    "    dx = X.shape[2]\n",
    "    dy = Y.shape[2]\n",
    "    \n",
    "    X = standardize(X, statistic)\n",
    "    X = expand(X, window_size)\n",
    "    \n",
    "    Y = classify(Y)\n",
    "    \n",
    "    if sample is not None:\n",
    "        X = undersample(X, sample)\n",
    "        Y = undersample(Y, sample)\n",
    "        \n",
    "    X = X.reshape((-1, w*w*dx))\n",
    "    Y = Y.reshape((-1, dy))\n",
    "    \n",
    "    return (X, Y)"
   ]
  },
  {
   "cell_type": "code",
   "execution_count": 13,
   "metadata": {
    "scrolled": true
   },
   "outputs": [
    {
     "name": "stdout",
     "output_type": "stream",
     "text": [
      "before preprocessing:\n",
      "the shape of X: (2, 3, 6)\n",
      "the shape of Y: (2, 3, 1)\n",
      "statistic: {'max': array([30, 31, 32, 33, 34, 35]), 'mean': array([15., 16., 17., 18., 19., 20.], dtype=float128), 'stdev': array([10.24695077, 10.24695077, 10.24695077, 10.24695077, 10.24695077,\n",
      "       10.24695077], dtype=float128), 'var': array([105., 105., 105., 105., 105., 105.], dtype=float128)}\n",
      "window size: 5\n",
      "the size of sample: 2\n",
      "after preprocessing:\n",
      "the shape of X: (2, 150)\n",
      "the shape of Y: (2, 1)\n"
     ]
    }
   ],
   "source": [
    "if __name__ == \"__main__\":\n",
    "    X = np.arange(2*3*6).reshape((2,3,6))\n",
    "    Y = np.arange(2*3*1).reshape((2,3,1))\n",
    "    stat = get_feat_stat([X])\n",
    "    w = 5\n",
    "    s = np.array([[0,1], [2,1]])\n",
    "\n",
    "    print(\"before preprocessing:\")\n",
    "    print(\"the shape of X:\", X.shape)\n",
    "    print(\"the shape of Y:\", Y.shape)\n",
    "    print(\"statistic:\", stat)\n",
    "    print(\"window size:\", w)\n",
    "    print(\"the size of sample:\", len(s))\n",
    "    X, Y = pipeline(X, Y, stat, window_size=w, sample=s)\n",
    "    print(\"after preprocessing:\")\n",
    "    print(\"the shape of X:\", X.shape)\n",
    "    print(\"the shape of Y:\", Y.shape)"
   ]
  },
  {
   "cell_type": "markdown",
   "metadata": {},
   "source": [
    "### 4.2 Iterative All Pipeline\n",
    "\n",
    "The different between the 4.1 and 4.2 is the type of input data. The type of 4.1 input data is numpy array and the type of 4.2 input data is the list of numpy array.\n",
    "\n",
    "**Args:**\n",
    "\n",
    "- X: the list of numpy array. reference 4.1\n",
    "- Y: the list of numpy array. reference 4.1\n",
    "- statistic: dictionary with keys \"mean\" and \"stdev\" used to standardize the data\n",
    "- window_size: the size of window\n",
    "- sample: the list of sample data. reference 4.1\n",
    "- callback: the callback function you want to execute. It will give you the data X and Y after processing function 4.1.\n",
    "\n",
    "**Returns:**\n",
    "\n",
    "None"
   ]
  },
  {
   "cell_type": "code",
   "execution_count": 14,
   "metadata": {},
   "outputs": [],
   "source": [
    "def iterative_all(X_lists, Y_lists, statistic, window_size=1, samples=[], callback=None):\n",
    "    \n",
    "    if len(X_lists) != len(Y_lists):\n",
    "        raise Exception('the length of X lists ({}) and Y lists ({}) are not the same'.format(len(X_lists), len(Y_lists)))\n",
    "    \n",
    "    if callback is None:\n",
    "        raise Exception('iterative_all callback is NoneType')\n",
    "\n",
    "    iters = zip(X_lists, Y_lists, samples)\n",
    "    if len(X_lists) > len(samples):\n",
    "        iters = itertools.zip_longest(X_lists, Y_lists, samples)\n",
    "    \n",
    "    w = window_size\n",
    "\n",
    "    for x, y, s in iters:\n",
    "        \n",
    "        # show progressing information.\n",
    "        d0, d1, dx = x.shape # dim\n",
    "        s0 = d0*d1 if s is None else len(s) # sample len\n",
    "        print(\"data size:\", d0*d1, x.shape, \"-->\", (s0, w*w*dx), end=' ')\n",
    "        \n",
    "        # run.\n",
    "        x, y = pipeline(x, y, statistic, window_size=w, sample=s)\n",
    "    \n",
    "        print(utility.sizeof_fmt(x.nbytes), utility.sizeof_fmt(y.nbytes))\n",
    "\n",
    "        callback(x, y)"
   ]
  },
  {
   "cell_type": "code",
   "execution_count": 15,
   "metadata": {},
   "outputs": [
    {
     "name": "stdout",
     "output_type": "stream",
     "text": [
      "iterative all preprocessing:\n",
      "the shape of X: (2, 3, 6) (3, 4, 6)\n",
      "the shape of Y: (2, 3, 1) (3, 4, 1)\n",
      "statistic: {'max': array([66, 67, 68, 69, 70, 71]), 'mean': array([27., 28., 29., 30., 31., 32.], dtype=float128), 'stdev': array([19.8242276, 19.8242276, 19.8242276, 19.8242276, 19.8242276,\n",
      "       19.8242276], dtype=float128), 'var': array([393., 393., 393., 393., 393., 393.], dtype=float128)}\n",
      "window size: 5\n",
      "the size of sample: 4\n",
      "data size: 6 (2, 3, 6) --> (2, 150) 1.2KiB 16.0B\n",
      "callback X shape: (2, 150)\n",
      "callback Y shape: (2, 1)\n",
      "data size: 12 (3, 4, 6) --> (2, 150) 1.2KiB 16.0B\n",
      "callback X shape: (2, 150)\n",
      "callback Y shape: (2, 1)\n"
     ]
    }
   ],
   "source": [
    "if __name__ == \"__main__\":\n",
    "    X1 = np.arange(2*3*6).reshape((2,3,6))\n",
    "    Y1 = np.arange(2*3*1).reshape((2,3,1))\n",
    "    \n",
    "    X2 = np.arange(3*4*6).reshape((3,4,6))\n",
    "    Y2 = np.arange(3*4*1).reshape((3,4,1))\n",
    "    \n",
    "    X_lists = [X1, X2]\n",
    "    Y_lists = [Y1, Y2]\n",
    "    stat = get_feat_stat([X1, X2])\n",
    "    w = 5\n",
    "    \n",
    "    s = [np.array([[0,1], [2,1]]), np.array([[1,2], [3,2]])]\n",
    "\n",
    "    def _callback(X, Y):\n",
    "        print(\"callback X shape:\", X.shape)\n",
    "        print(\"callback Y shape:\", Y.shape)\n",
    "    \n",
    "    print(\"iterative all preprocessing:\")\n",
    "    print(\"the shape of X:\", X1.shape, X2.shape)\n",
    "    print(\"the shape of Y:\", Y1.shape, Y2.shape)\n",
    "    print(\"statistic:\", stat)\n",
    "    print(\"window size:\", w)\n",
    "    print(\"the size of sample:\", len(np.concatenate(s, axis=0)))\n",
    "    iterative_all(X_lists, Y_lists, stat, window_size=w, samples=s, callback=_callback)\n"
   ]
  },
  {
   "cell_type": "code",
   "execution_count": null,
   "metadata": {},
   "outputs": [],
   "source": []
  }
 ],
 "metadata": {
  "kernelspec": {
   "display_name": "Python 3",
   "language": "python",
   "name": "python3"
  },
  "language_info": {
   "codemirror_mode": {
    "name": "ipython",
    "version": 3
   },
   "file_extension": ".py",
   "mimetype": "text/x-python",
   "name": "python",
   "nbconvert_exporter": "python",
   "pygments_lexer": "ipython3",
   "version": "3.6.9"
  }
 },
 "nbformat": 4,
 "nbformat_minor": 2
}
